{
 "cells": [],
 "metadata": {
  "kernelspec": {
   "display_name": "DataScience_CPU",
   "language": "python",
   "name": "python3"
  },
  "language_info": {
   "name": "python",
   "version": "3.10.12"
  }
 },
 "nbformat": 4,
 "nbformat_minor": 2
}
